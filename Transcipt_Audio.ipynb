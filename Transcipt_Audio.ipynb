{
 "cells": [
  {
   "cell_type": "markdown",
   "metadata": {},
   "source": [
    "| Run this code via free cloud platforms: | [![Binder](https://mybinder.org/badge.svg)](https://mybinder.org/v2/gh/Hrabalikova/toolbox/master?filepath=Transcipt_Audio.ipynb) | [![Kaggle](https://kaggle.com/static/images/open-in-kaggle.svg)](https://kaggle.com/kernels/welcome?src=https://github.com/Hrabalikova/toolbox/blob/master/Transcipt_Audio.ipynb) | [![Colab](https://colab.research.google.com/assets/colab-badge.svg)](https://colab.research.google.com/github/Hrabalikova/toolbox/blob/master/Transcipt_Audio.ipynb) |\n",
    "|---|---|---|---|"
   ]
  },
  {
   "cell_type": "markdown",
   "metadata": {
    "id": "0pS7ng8bWDPJ"
   },
   "source": [
    "# Install and import necessary packages and libraries\n",
    "\n",
    "Install the required packages for speech recognition, audio processing, and video editing:\n",
    "\n",
    "- `SpeechRecognition`: Used for transcribing speech from audio.\n",
    "- `pydub`: Provides tools for audio manipulation and format conversion.\n",
    "- `ffmpeg`: A command-line tool for audio and video processing. We use it for audio conversion from `.mp3` into `.vaw` chunks\n",
    "- `moviepy`: A library for video editing and manipulation. We used it in the case our recording is as `.mp4`\n"
   ]
  },
  {
   "cell_type": "code",
   "execution_count": null,
   "metadata": {
    "colab": {
     "base_uri": "https://localhost:8080/"
    },
    "collapsed": true,
    "executionInfo": {
     "elapsed": 22265,
     "status": "ok",
     "timestamp": 1733153027129,
     "user": {
      "displayName": "Michaela Hrabalikova",
      "userId": "03300522245908026853"
     },
     "user_tz": 0
    },
    "id": "4tnaXe6XV5xZ",
    "outputId": "8ee712da-67fa-46c9-e74d-4f2957c6c8f5"
   },
   "outputs": [],
   "source": [
    "# for Colab\n",
    "\n",
    "#!pip install SpeechRecognition pydub\n",
    "#!apt-get install ffmpeg -y\n",
    "#!pip install moviepy"
   ]
  },
  {
   "cell_type": "markdown",
   "metadata": {
    "id": "QzIME5FkbFuh"
   },
   "source": [
    "Import libraries"
   ]
  },
  {
   "cell_type": "code",
   "execution_count": 1,
   "metadata": {
    "colab": {
     "base_uri": "https://localhost:8080/"
    },
    "executionInfo": {
     "elapsed": 3527,
     "status": "ok",
     "timestamp": 1733153034800,
     "user": {
      "displayName": "Michaela Hrabalikova",
      "userId": "03300522245908026853"
     },
     "user_tz": 0
    },
    "id": "MHPVyXv8bEJx",
    "outputId": "ace4ea96-4f14-4873-a56e-876fadc2f5c3"
   },
   "outputs": [],
   "source": [
    "from moviepy.editor import VideoFileClip\n",
    "import speech_recognition as sr\n",
    "from pydub import AudioSegment\n",
    "\n",
    "import os\n",
    "import time\n",
    "#import random"
   ]
  },
  {
   "cell_type": "markdown",
   "metadata": {
    "id": "2viiOeiZV9DR"
   },
   "source": [
    "# 1. Define where your files are locate\n",
    "\n",
    "* mount google drive\n",
    "* locate the path to your folder with files\n",
    "* convert `.mp4` to `.mp3` if you need, otherwise just set up the path to your `.mp3` file"
   ]
  },
  {
   "cell_type": "markdown",
   "metadata": {
    "id": "-8Jy_Q8ADR2V"
   },
   "source": [
    "Mount Google Drive to access files stored there, if you run this NB on Colab. Skip if you are not working on collab"
   ]
  },
  {
   "cell_type": "code",
   "execution_count": null,
   "metadata": {
    "colab": {
     "base_uri": "https://localhost:8080/"
    },
    "collapsed": true,
    "executionInfo": {
     "elapsed": 11754,
     "status": "ok",
     "timestamp": 1732578865762,
     "user": {
      "displayName": "Michaela Hrabalikova",
      "userId": "03300522245908026853"
     },
     "user_tz": 0
    },
    "id": "KXXJiOaoV3ui",
    "outputId": "014b4949-3372-4379-d2d3-842676061295"
   },
   "outputs": [
    {
     "name": "stdout",
     "output_type": "stream",
     "text": [
      "Drive already mounted at /content/drive; to attempt to forcibly remount, call drive.mount(\"/content/drive\", force_remount=True).\n"
     ]
    }
   ],
   "source": [
    "from google.colab import drive\n",
    "drive.mount('/content/drive')"
   ]
  },
  {
   "cell_type": "markdown",
   "metadata": {
    "id": "vQFu1MSKvgdy"
   },
   "source": []
  },
  {
   "cell_type": "markdown",
   "metadata": {
    "id": "-37Yv954ZKNz"
   },
   "source": [
    "Locate the path of your audio file. You can navigate in Google Drive (using drive/My Drive/...) to set the file path accordingly.\n",
    "The best approach is, to right click on the folder where recording is saved and paste it here."
   ]
  },
  {
   "cell_type": "code",
   "execution_count": 3,
   "metadata": {
    "executionInfo": {
     "elapsed": 194,
     "status": "ok",
     "timestamp": 1733153068861,
     "user": {
      "displayName": "Michaela Hrabalikova",
      "userId": "03300522245908026853"
     },
     "user_tz": 0
    },
    "id": "4huKH1JC6aoi"
   },
   "outputs": [],
   "source": [
    "# Define the path to your folder in Google Drive\n",
    "folder_path = \"/content/drive/MyDrive\"  # Replace with your actual folder path"
   ]
  },
  {
   "cell_type": "markdown",
   "metadata": {
    "id": "6Fa6ucYWbCSU"
   },
   "source": [
    "Before moving to the Section 3:\n",
    "* In the case you have video recording as `.mp4`, we need to convert into `.mp3`. Go to step a) and run all cells under.\n",
    "* If your file is already in `.mp3` go to step b) and run the cell"
   ]
  },
  {
   "cell_type": "markdown",
   "metadata": {
    "id": "XcdaPhgc7x4_"
   },
   "source": [
    "## a) Convert recording from `.mp4` to `.mp3`\n"
   ]
  },
  {
   "cell_type": "markdown",
   "metadata": {
    "id": "dKSUesroj_An"
   },
   "source": [
    "In the case that you have camptured screen or just have video recording you have two options:\n",
    "1. use any free web convertor, for example [cloudconvert](https://cloudconvert.com/mp4-to-mp3). The quality is quite good and is for free, or\n",
    "2. run the two cells bellow, but keep in mind that you will not get the best quality because I do not apply any noise reduction and so on...."
   ]
  },
  {
   "cell_type": "code",
   "execution_count": null,
   "metadata": {
    "id": "w9QFvm3x_0Vr"
   },
   "outputs": [],
   "source": [
    "# First let's set up the path for the files, here you just replace the name of input and output files\n",
    "video_file_path = os.path.join(folder_path, \"test.mp4\")\n",
    "audio_file_path = os.path.join(folder_path, \"output.mp3\")\n"
   ]
  },
  {
   "cell_type": "markdown",
   "metadata": {
    "id": "sUPm_FsAfTDx"
   },
   "source": [
    "**Understanding MP3 Encoding**\n",
    "\n",
    "MP3 is a lossy compression format, meaning some audio data is discarded during the encoding process to reduce file size. The degree of compression and the resulting quality loss are influenced by various parameters, primarily the **bitrate**.\n",
    "\n",
    "**Bitrate:** Measured in kilobits per second (kbps), the bitrate determines the amount of data used to represent the audio per unit of time. Higher bitrates generally result in better audio quality but larger file sizes.\n",
    "\n",
    "**Common Bitrates:**\n",
    "\n",
    "- 128 kbps: Standard quality, suitable for casual listening.\n",
    "- 192 kbps: Good quality, offering a noticeable improvement over 128 kbps.\n",
    "- 320 kbps: Near-CD quality, often considered the highest practical bitrate for MP3.\n",
    "\n",
    "**Therefore, we specify in the `.write_audiofile()`:** <br>\n",
    "* `codec='libmp3lame'` : This specifies the MP3 encoder to use. 'libmp3lame' is a widely used and high-quality encoder.\n",
    "* `bitrate='320k'` : This sets the target bitrate to 320 kbps, aiming for near-CD quality."
   ]
  },
  {
   "cell_type": "code",
   "execution_count": null,
   "metadata": {
    "colab": {
     "base_uri": "https://localhost:8080/"
    },
    "executionInfo": {
     "elapsed": 1537,
     "status": "ok",
     "timestamp": 1732552650094,
     "user": {
      "displayName": "Michaela Hrabalikova",
      "userId": "03300522245908026853"
     },
     "user_tz": 0
    },
    "id": "4CoLRhtf4HqM",
    "outputId": "259a3bca-b7a1-46df-e310-da21cf1123ab"
   },
   "outputs": [
    {
     "name": "stdout",
     "output_type": "stream",
     "text": [
      "MoviePy - Writing audio in /content/drive/MyDrive/output.mp3\n"
     ]
    },
    {
     "name": "stderr",
     "output_type": "stream",
     "text": [
      "                                                                   "
     ]
    },
    {
     "name": "stdout",
     "output_type": "stream",
     "text": [
      "MoviePy - Done.\n"
     ]
    },
    {
     "name": "stderr",
     "output_type": "stream",
     "text": [
      "\r"
     ]
    }
   ],
   "source": [
    "# Convert .mp4 video to .mp3\n",
    "video = VideoFileClip(video_file_path)\n",
    "audio = video.audio\n",
    "audio.write_audiofile(audio_file_path, codec='libmp3lame', bitrate='192k')  #modify bitrate according to required quality"
   ]
  },
  {
   "cell_type": "markdown",
   "metadata": {
    "id": "jIq6xKaqaFvB"
   },
   "source": []
  },
  {
   "cell_type": "markdown",
   "metadata": {
    "id": "Nymu4zVvb6ef"
   },
   "source": [
    "## b) Define the path `.mp3` file"
   ]
  },
  {
   "cell_type": "markdown",
   "metadata": {
    "id": "r0xVzv_lBkmg"
   },
   "source": [
    "This is the step in the case your file is already as `.mp3` and you do not have to convert it from video. You just simply define the path here. It is the same principle as above ⬆️🆙"
   ]
  },
  {
   "cell_type": "code",
   "execution_count": 4,
   "metadata": {
    "executionInfo": {
     "elapsed": 177,
     "status": "ok",
     "timestamp": 1733153072118,
     "user": {
      "displayName": "Michaela Hrabalikova",
      "userId": "03300522245908026853"
     },
     "user_tz": 0
    },
    "id": "XhfBtgCwZJoL"
   },
   "outputs": [],
   "source": [
    "# Set the path to the audio file in Google Drive\n",
    "audio_file_path = os.path.join(folder_path, \"Voice_v2.mp3\")"
   ]
  },
  {
   "cell_type": "markdown",
   "metadata": {
    "id": "3Ya82ifNJ8yi"
   },
   "source": [
    "Now we are done with modifications and just let the code run."
   ]
  },
  {
   "cell_type": "markdown",
   "metadata": {
    "id": "k3L75_77DFAE"
   },
   "source": [
    "# 2. Define functions for time stamp and transcibe chunks"
   ]
  },
  {
   "cell_type": "code",
   "execution_count": 5,
   "metadata": {
    "executionInfo": {
     "elapsed": 177,
     "status": "ok",
     "timestamp": 1733153077551,
     "user": {
      "displayName": "Michaela Hrabalikova",
      "userId": "03300522245908026853"
     },
     "user_tz": 0
    },
    "id": "_CZaeRKz_xgc"
   },
   "outputs": [],
   "source": [
    "# Function to convert milliseconds to HH:MM:SS format\n",
    "def format_timestamp(ms):\n",
    "    seconds = ms // 1000\n",
    "    minutes = seconds // 60\n",
    "    hours = minutes // 60\n",
    "    return f\"{hours:02}:{minutes % 60:02}:{seconds % 60:02}\""
   ]
  },
  {
   "cell_type": "markdown",
   "metadata": {
    "id": "0qW2paAgEERv"
   },
   "source": [
    "This function `transcribe_chunk` transcribes an audio chunk using Google Speech Recognition. The language is currently set to Icelandic `('is-IS')`. To transcribe in a different language, modify the `language` parameter within the `r.recognize_google()` call to the desired language code.\n",
    "\n",
    "Czech: 'cs-CZ'<br>\n",
    "German: 'de-DE' <br>\n",
    "Icelandic: 'is-IS' <br>\n",
    "English:<br>\n",
    " * US English: 'en-US'\n",
    " * UK English: 'en-GB'\n",
    " * Australian English: 'en-AU'\n",
    " * Canadian English: 'en-CA'<br>\n",
    "\n"
   ]
  },
  {
   "cell_type": "code",
   "execution_count": 6,
   "metadata": {
    "executionInfo": {
     "elapsed": 168,
     "status": "ok",
     "timestamp": 1733153083413,
     "user": {
      "displayName": "Michaela Hrabalikova",
      "userId": "03300522245908026853"
     },
     "user_tz": 0
    },
    "id": "_HXzruth7T6t"
   },
   "outputs": [],
   "source": [
    "def transcribe_chunk(audio_chunk_path, max_retries=10): # Transcribes an audio chunk, retrying up to max_retries times.\n",
    "    r = sr.Recognizer()\n",
    "    for i in range(max_retries):\n",
    "        try:\n",
    "            with sr.AudioFile(audio_chunk_path) as source:\n",
    "                audio = r.record(source)\n",
    "            text = r.recognize_google(audio, language='is-IS') # here you define language of the recording\n",
    "            return text  # Successful transcription\n",
    "        except sr.RequestError as e:\n",
    "            print(f\"Could not request results (attempt {i + 1}): {e}\")\n",
    "            time.sleep(10)  # Increase wait time on connection errors\n",
    "        except sr.UnknownValueError:\n",
    "            print(\"Could not understand audio in this chunk.\")\n",
    "            return \"[Unintelligible]\"  # Placeholder for unintelligible sections\n",
    "    return \"[Error]\"  # If all retries fail"
   ]
  },
  {
   "cell_type": "markdown",
   "metadata": {
    "id": "v9CTf4wxF25M"
   },
   "source": [
    "# 3. Transcibe the audio\n",
    "\n",
    "Let's start the fun part. This step might take some time depending on the length of the audio. It could take anywhere from a few minutes to 30 minutes or longer for very long audio files."
   ]
  },
  {
   "cell_type": "code",
   "execution_count": 7,
   "metadata": {
    "executionInfo": {
     "elapsed": 14395,
     "status": "ok",
     "timestamp": 1733153111347,
     "user": {
      "displayName": "Michaela Hrabalikova",
      "userId": "03300522245908026853"
     },
     "user_tz": 0
    },
    "id": "JqoR4KPD0hep"
   },
   "outputs": [],
   "source": [
    "# Load the audio file and split into X-minute chunks\n",
    "audio = AudioSegment.from_mp3(audio_file_path)\n",
    "chunk_length_ms = 1 * 60 * 1000  # 1 minute in milliseconds, I choose 1 minute, but it can be up to 5 or go to 30s by writing 0.5 instead 1. More than 10 min chunk will definetly overhelm the API\n",
    "chunks = [audio[i:i + chunk_length_ms] for i in range(0, len(audio), int(chunk_length_ms))]"
   ]
  },
  {
   "cell_type": "code",
   "execution_count": 8,
   "metadata": {
    "colab": {
     "base_uri": "https://localhost:8080/"
    },
    "executionInfo": {
     "elapsed": 969446,
     "status": "ok",
     "timestamp": 1733154085467,
     "user": {
      "displayName": "Michaela Hrabalikova",
      "userId": "03300522245908026853"
     },
     "user_tz": 0
    },
    "id": "5UzdtBjZAXs1",
    "outputId": "4d5c5e16-34ad-4d0c-8d73-4a801197e176"
   },
   "outputs": [
    {
     "name": "stdout",
     "output_type": "stream",
     "text": [
      "Could not understand audio in this chunk.\n",
      "Could not understand audio in this chunk.\n",
      "Could not understand audio in this chunk.\n",
      "Could not understand audio in this chunk.\n",
      "Could not understand audio in this chunk.\n",
      "Could not understand audio in this chunk.\n",
      "Could not understand audio in this chunk.\n",
      "Could not understand audio in this chunk.\n",
      "Could not understand audio in this chunk.\n",
      "Could not understand audio in this chunk.\n",
      "Could not understand audio in this chunk.\n",
      "[00:00:00] betri en lítur út núna aðeins frá yfirsýn yfir þar sannarlega skoða tíma svo ókei hérna færð þegar að gera hérna\n",
      "[00:01:00] fyrsti einhverja ákveðnu ertu að reyna að opna fá þetta stærra svo að hafa lesa bara þannig já upp hvenær hvaða verkefni hefur grunnan og ég er ennþá að reyna yfirsýn yfir ofsa mikið og og við erum nú nokkur með hátíð á suðurnesja svona akkeri fyrir að við ætlum að fara hlaupastöðum einasta svona sjáum soldið efna þú veist líka mikilvægast og\n",
      "[00:02:00] hvað þarf að gerast á hvaða tímapunkti og mig langar við séum svona sviði sem sameinast svona kannski búið að vera þó söngkona sameinastöðunni júní frá stofnanir verða áfram eitthvað að örugglega ég væri rosalega til í það að við myndum reyna að verða einhvern veginn okkar fundinn nei eh hann ingvar er á fundi í kaupmannahöfn þannig hann fær matthías þannig í sko með datt í hug að þegar við erum að reyna að kynnast og þarna að við myndum bara farna nokkuð tengku verði bara með stutta kynningu og ég ætla að byrja svona óver sér\n",
      "[00:03:00] sérstaklega stressaða stærð strax að óvissera til þess að reyna að komast fordæmi af því lokað með henni núna sýninguna vídeó þú veist við komum úr allskonar áttum og höfum allskonar ástæðan fyrir okkur verið með svo erum við og hennar bara sýna þú veist hvað ég er búin að standi undan nálægð með þetta byrjar á svona tilfinning að klámi til að fá ykkur með mér í lið heyrðu eina sekúndu hverjum degi búinn að standi mjög séð þetta æðisleg einmitt eða já svona með greindist með krabbameinum föstudag og tvö febrúar og svo endurgreind í ágústa þeirra sést ári á meðan ég var ennþá með að hann var ennþá í meðferð hefur svo meðferð svona þingflæði og í mill\n",
      "[00:04:00] líka krabbamein sem varð brjóstagjöf já við tókum þetta bara saman og allavega í svíþjóðlegu fjóra mánuði núna 25% í þessum tilfinning þetta eru lundi flokkast þar að vera svona flestir hafa farið að læra jú mjög margir íslendingar bæði rosa háskólabærinn fá með mér á mannavali hrina strákana yngsti maður land\n",
      "[00:05:00] annað getur fötum hana vörum setta einhverjum furðulegum fötum\n",
      "[00:06:00] hundur sálfræðingur heimilisins já svalir í kringum heilsuefnið henni fótboltamótann tíma svo\n",
      "[00:07:00] verkstýrir landspítalanum hluta til líka skipaður með setja atvinnast atvinnuskráningu og jesús í ljósinu þriðjudögum eftirmiðstöðvum en ég er að klára það núna í þessum börn það mátti ekki áfram\n",
      "[00:08:00] já hver\n",
      "[00:09:00] 45 mínútur eða 50 mínútur gráta ekki neitt og festist hann er það ekki bara eitthvað svona við burtu að fór of neðarlega þannig að hann gat ekki lent á sama stað aftur þau uppskrift allt fyrir mér ekki stressuð var að stefán eða eitthvað ekki ensku þannig gat ekki fengið upprunanna nokkur værum svona lengi þannig svo var hann hringsola að koma sér upp streymið til þess að komast aftur nú ofarlega til þess að geta lagt hljómar einmitt ástæðan fyrir því að ég ætla ekki að gera þetta þetta voru í þessari peysu verða vikin að kubbari í loftinu\n",
      "[00:10:00] haft áhrif á þjóðfélagið í allskonar komum við bara allskonar verkefni þú veist náttúrulega mesta áhrif á náttúruna en þú veist við bara getum gert allskonar og við höfum raun og veru alltaf mörg verkefni þannig að reyna að hafa skýra sína við hvað við erum að gera taka kannski hlutan smá í sprettum hjálpast að við erum með megannar hérna með okkur sérstaklega misso og marko með eitthvað massýn rarning bara að nýta þau í það\n",
      "[00:11:00] og kannski taka þá við boltanum frá þeim þar sem að við getum gert eins og að skrifa einhverja skýrslu búa til viðmót fyrir kort svona template hana þér eitthvað svona sem tekur hellingstíma sem að aðrir eru kannski bara mjög góðir í nýta þau að reyna að bjarga heiminum eitthvað að skoða hvort það gæti hennar með öllum hætti hennar spotta sveppi í sveppa sínu hana fyrir norðan svo hún heiðrún gæti mögulega verið að vinna við bara allskonar skemmtilegt annað að fá hálsvíg við hana stjórnar við sjáum þannig að helgi já já já ég er búinn að segja að þú komir á landspítala þegar hún að redda þessu sko lofa því en hanna já þannig mig langaði kannski bara við tækjum bara hring þessum bara kynntum okkur aðeins svo bara fólk það þarf enginn að vera\n",
      "[00:12:00] þannig kannski hefur tökum kannski bara fyrst hringinn hérna og svo netið já við þekkjum ég heiti annað guðrún ég er búinn að vera hjá landmælingu síðan 2013 byrjaði þar í ferðakortasölu og komum reynsluleið úr mínum fyrra færi sem er yfir innanhús ekkert útvarpinu og hið önnuður mhm jú jú hann með verkfræði verkfræðideild verkfræði en ég sem sagt fór út úr því og atkvæða hingað þessi og var eh þú fljótlega inn í gæðastjórnun við gæðakerfi fyrir landmælingaráð um svo var ég í skjala málunum\n",
      "[00:13:00] og síðan einhvern tímann þinn í grundir landhelgisgegnum þá var verið einleiða eins bæjar tilskipunina sem er evrópu sem að við eigum að innleiða hér sem eftir lönd og já búinn að vera í því verkefni í mörg ár síðan hvað fór ég stjórnsýsluháskólans útskýr tilraunin hér í þessari stofnun hér sem sagt klára meistarar frá stjórnsýslu og hérna já ég er búinn að vera mikið í þessum norræna samstarfi í sambandi við grundgerðina og hérna já þú þekkir mig náttúrulega hér náttúrufræðistofnun í gegnum grunngerðar verkefnið þarna kemur annað gunnar soldið annað mjög nýsköpunarsöðlun einmitt við vorum að vinna saman hérna að fitjuskrá\n",
      "[00:14:00] nú erum við nú farið soldið útúr þeim viljum vera inní gagnalýsingu sem að hefur eitthvað komið að og samskiptum hér á okkar nýju stofnun er ég að þínu sviði er tekjur sem gæðastjóri þannig það hefur verið birt gæðakerfi hérna en ofboðslega mikið af beiðnum að fara í gegnum stofnana utanaðkomandi eru að biðja um afgreiðslu á öllum mögulegu greinargreina sýni og landmælingar fyrrverandi í sambandi við beiðnir um sem að tengjast örnefnum og alþingis loftmyndir og í kim þá að því svolítið hérna hvernig erum við í samskipti við utanum komið þið aðila og í því samhengi verða mælingar rosalega eitthvað langar líka henni mælingar á þjónustunni okkar til dæmis hvað eru margar mismunandi tegund frá beiðnum að berast hingað og umsóknir að mæla með\n",
      "[00:15:00] mælanlegir hlutir í starfseminni og líka þá vorum við að tala um það í dag hversu mikil umferð er á þjórsá uppá hvaða gagnafólk að sækja og stofnanir hvernig mælt það hversu mikið hefur verið að nota gögnin okkar sækja þau hafa gögn mögulega hvaða gögn eða ekki og hvaða aðilar ráð við það mögulega ekki en að getum við hreint en allt svona það sem við getum mælt okkar samskipti við fólk stofnanir fyrirtæki utan merkja þessarar stofnana stofnunar utan veggja okkar á húsnæði okkar húsnæða er rosalega mikilvægt bara til þess að við getum líka samfélagið út í ráðuneytið okkar þetta gera það fyrir ofboðslega mikil tími í þetta betur hjá þurfum við að gera svona mögulega fjármagn mhm þannig þú veist ef að soldið að rét\n",
      "[00:16:00] réttlæta alveg hreint þannig að við höfum alltaf mikið hvernig við förum að því og hérna hvað átti ég líka þeirra svo var ég væri líka farinn í vefsíðuna já þannig að þú ert allskonar og við reynum að nýta aðeins mikið og hægt er í svona þetta þennan anga svona grunngerðar við kallað nokkuð pólitískan erindi eitthvað stundum á fundi þar sem þarf að kurteisi það sem ég nenni þessum ástæður erum við segja ykkur aðeins að útskýra nánar því veita þér ekki búin að vera já já já það er svo mikilvægt að vita í miklum fólk fólk að komast forseti ég er ekki með svona myndband er ég veit að myndband þar sem við vorum með hvaleyrarskóla þetta einmitt myndir ú\n",
      "[00:17:00] [Unintelligible]\n",
      "[00:18:00] en frábært þennan með að því þetta verkefnastýra þá stendur skýr markmið það mhm þannig að þá eftir að greina svolítið feldana ekkert svolítið þá ertu að greina ferlana almennilega í stofnunina okkar sem við erum alveg byrjuð ingibjörg annars sveins er yfir þar og maður framfæri varðandi verkbókhaldið sem hefur verið að mögulega er þetta bara tækifæri til að hreinsa til í því að byrja með nýtt í staðinn fyrir að fara halda áfram með svo ekki það í skorist mhm þannig að sjá tilburður en þessi þú hans hér heldur ekki undirbúinn undir þessari þú veist gerði þetta bara svona\n",
      "[00:19:00] jæja heitir búið eitt árangri þangað í gosinu spámenn ætlum við að hrekja mig langar aftur þá sagði uppá landaleikum byrjaði minni starfsfólki þar sem sagt eftir eiginlegur námi á landmannalaugum eða reyndar þegar landnámi eða ánægjuleg fullnægjuleg hlemmi síðan okkar hún hnit svo það eru nokkur flugvél loftmyndum að landmælingum og og svo var ég til þau kortar í nokkrar árna\n",
      "[00:20:00] umhverfisstofnun áttu nú að vera að fara í tímabundið verkefni stærri í ykkur þrjú fengum lesa það og svo var auglýst tímabundið starf að náttúrufræðistofnun í tengslum við viðskiptarkort það síðan bara farþega gaman mikið svara 64 eða nánar ættu mánuði þannig að eftirlit sko það í hnotskurnar þetta komi víða við\n",
      "[00:21:00] sumstaðar oftanefni aftur þú verður komin aftur og hérna á náttúrulega stofna svefnherber svo sagði ég hérna að honum eða náttúrufræðum höfuðborg þá var búin að segja við fólk nú voru landná aftur komnar heim til mín ertu ekki eitthvað færeyskur mínum stærstu eftirsjá við lífinu hafi ekki hafa ekki sparisjóða eitthvað seint og ég ætla að jafna bjóst einhvern tímann í færeyja fjölskyldufólkið bara þrjú systkini eða sem sagt bara þrjú mamma og systurnar þau okkar\n",
      "[00:22:00] kirkju og hann hélt fyrir okkur svona smá fyrirlestur þú getur verið að hann haft það líka hann nei hann var að tala færeysku en rosalega svona gamaldags ruglar á hægar og þá voru völl bara íslensku við þá þegar þeir skyldu allir því að þeir höfðu verið þessa pab\n",
      "[00:23:00] verið meira á íslandi sem ungir menn á sjónarhornin réði í 50 sekúndur ég vona samt að hann hafi ekki verið að tala íslensku okkar af því að þá eyðileggi alveg hérna söguna mína gæti verið að það það þekkt saman að norðurlandið þegar óli óljótalaði dönsku og danskir fulltrúum sem rosalega danskan hjá íslenskar líkar svona vorið núrdís venjur þinn að hann var að tala íslensku og voru svo hringdu eða ég ætla ekkert heyrðu alþjóðlegt svið já ég heiti frá þýskalandi\n",
      "[00:24:00] vilji hjá náttúrufræðistofnun suður eða 2015 eða eitthvað sammæling fyrir hrun 20 ár já annað áður og þú ákveðið ég þarf að breyta lífi mitt og þora háskólalega kortagerð og komu hingað hálft árið og þegar að búinn með náum þá að óskaði við vilki koma hingað og ég n hér en ég kornagerð svona fyrir skýrslur eða stundum bók eða eitthvað hvað fólk gefa út og fyrir heimasíða fyrsti árið keypti líka svona\n",
      "[00:25:00] myndvinnsla fyrir heimasíða en núna þegar maría er kominn nú annað gera þau þriggja sjálf og uppgerði líka svona já í gæti svona útgáfumál en stundum geri líka útlit hönnun fyrir eitthvað annað en svona skýrslu eftirfarandi fyrir sýning eða svona oft með í ættu það vísindavaka eða ógleymhöldum ör þínum hvað vetrarnótt þýðing í safninu sem hafa í þarna með já end þú þegar við komum með búnaður fyrir kortasjá gerði líka\n",
      "[00:26:00] birtingunni að gögnunum kíkja eftir lýsingagbústofnana en það er frekar svona kláruð svona verkefni en það kemur birtum það þú veist svona að kíkja ef það fer eftir fituskrá það töfluna að það að hreinu og ýta áfanga skrifa lýsing minna ánægðan kemur fyrirtækja rannsóknargerð á íslenskunni missa glandi\n",
      "[00:27:00] en before i forget in research institute for and water conservation and the university and já\n",
      "[00:28:00] rammaáætlun enparingus atmosfermonitoring services and whatab continue with this that ungverji stofn well take over the application of guide.is\n",
      "[00:29:00] norðlægja iphone apple 2 convid ungverjar european project a er quality forstein en einar þriggja ice from ingvarsstofnun protections\n",
      "[00:30:00] [Unintelligible]\n",
      "[00:31:00] [Unintelligible]\n",
      "[00:32:00] jess en osaa in a tube us the future from a needs or the government the logo office aerosmith.is\n",
      "[00:33:00] náttúrufræðistofnun í hafnarfirði ég er upprunalega fornleifafræðingur tók meistaranámi landsvæði varla að vinna semsagt svona rannsóknarverkefni í fornleifafræði en var alltaf sem sagt tók alltaf meira og meira við sem sagt að landupplýsinga hlutanum áminningu stofn\n",
      "[00:34:00] [Unintelligible]\n",
      "[00:35:00] fólk spyr alltaf að þessu en ég er svona mikið í meistaraflokks byggingarkort þar sem við vorum að grænt síðast var hérna þarna á höfnum að skaga og það svona litlar verbúðir þú veist það bara sósa kúla sjá hvernig þú veist þeir eru að breyta á bæta þá byggja svo koma lauff í reykjavík flottar svona taflan kodra eitthvað svona rosalega flottar kopar hérna atvinnu svona lítinn skjöld svona koparsgjöld með einhverja svona hæsti þeim eða nokkuð á mjög flottur sko þetta er sem við erum sko þetta er nefnilega alveg frá landnámi og til hérna sextánda en við erum að grafa held ég elska yngsta farsælunum kannski kominn í svona kannski 1400\n",
      "[00:36:00] með skemmtilega svo hérna bý í árbænum og á fjölskyldunnar þrjú börn mikil fjölskylda eyjafjarðarsveit eins og heyrist í gær þú segir það heyrist ekki ég er búinn að borða ég er búin að búa hérna fyrir sunnan í hvaða bara íslensku út reykja þá líkist mjög mikið út í hættu að segja botnabolti hafa allir gerast að greina þér vottorð ekki að segja punkta þetta kaupir ekki kók í bauk nei ég hvað gerir það ekki einkaneysum kaup\n",
      "[00:37:00] þær eru einhverjar eins og punktar jájá heyrðu takk fyrir sparifötunum er það ekki bara akureyri þar síðustu sigurður já hvað þarf að byrja ég byrjaði hérna hjá okkur í janúar 2018 og það þarf breyttist tiltölulega fljótt yfir það að þurft að fara að taka samband\n",
      "[00:38:00] véla og er 100 milljón kópíu þannig að það var komið sko þá var sko þetta þróast þeirra bestu fyrir það að ég var í þegar að sitja saman í gögn og keyra þau inn í gatnamótum og svona og bæði lítil svæði og stórsvæði jú ég var eitthvað í stað fermingunum líka inni á milli sko ertu þá hefur ekkert nálægt að hafa hlutina staðlað að hafa alltaf sömu dálka eða þú veist eftir eitthvað í því eða mismunandi nafn á samskonar upplýsinguna að þakka þér fyrir farið í taugarnar á mér sko að að að það séu sko 30 næsta skjali einmitt og þú veist\n",
      "[00:39:00] nýjasta nýrrar nýjasta nýjasta tvö nýjasta þrjú lokaútgáfa lokað nokkuð loka lokaútgáfa partur af mínu þar við að hreinsa til en síðan náttúrulega sko varma bara í þessu og ganga frá þessu og síðan breyttist alltaf núna þegar að akkúrat ég var búinn að klára þetta gróðurkort loksins að þá væri þetta er í góða dróna úrvinnslu myndirnar já við gátum ekki leitað gaman bara að ég bara hef alltaf verið í sérmerkur sko meira að meina allt með slík sko í þjálfunarfélagið byrjaði sko það tekur í rauninni rosalega mikill part af mínum sko en síðan á sumrin sko þá fyrir feltir og svona má segja að matreiða gögnum fyrir þau í tækjum nú að hafa drónavatn tilbúna og allt saman tilbúið já svona aðstoðardóttir fleiri fellt líka og tek sólhljómsmyndir sko þegar það eru svona\n",
      "[00:40:00] [Unintelligible]\n",
      "[00:41:00] en síðan náttúrulega eins og ég segi sko er ég náttúrulega mesti við þarf að þjálfun í fluglínum það er bara ætla ekki að þessi frumvarpið með þetta vara merkilega veðrið hérna á síðasta ári sko hvernig það sko eins og ég vor sko að þá er fréttir námskeið\n",
      "[00:42:00] hið ólafsfirði hérna opið á flugmótafélaginu við leyfi til að æfa okkur og það fórum við í tveimur hópum tvisvar sko já frábært og bara leyfa þeim að takið með fljúga á að lenda á að fljúga á lenda á meðhöndækin sko áður en ég færi fellt og þetta þarf að gera eitthvað einstæð vorið að því magla þau gleyma þessu leið sko við erum að segja samstarfi við samgöngustofu aðstoð við svona með dróna dansvæði líka að sko þrýsting á það allir að taka prófið sko já af því að frá fyrsta mars þá verða allir að vera að prófa sem alltaf bjóða dóma þeir sem voru búnar myndavél það þarf svo 2499 alþjóðlegt eða bara á íslandi ég held það sé\n",
      "[00:43:00] lögregluverðarhljóð persónuverndina já þannig nú er það ennþá mikilvægari að fara með töluvert þau eru heldur tíu held ég búinn að taka prófið eftir að gera og gera væntanlega vel vetur en þeir sem voru búnir að taka prófið áður að taka aftur með þessu frá við getur maður flogið allt 25 kílómetra heyrðu þá er það online eða fyrsta hana sennilega á að deila sk\n",
      "[00:44:00] [Unintelligible]\n",
      "[00:45:00] heiðsberg skammarson norvegur voru skeljung óð þjónustu mínútna orðnar production and quality undir jesú dagsins 2015\n",
      "[00:46:00] [Unintelligible]\n",
      "[00:47:00] [Unintelligible]\n",
      "[00:48:00] [Unintelligible]\n",
      "[00:49:00] [Unintelligible]\n",
      "[00:50:00] þakka þér fyrirtaka boltann augnablik að marko byrjar íþróttara já að funda hæðinni fyrir neðan og þessi fundur verður mánaðarlega samt en með langaði að vera annað hvern mánaða akranes og annað garðabænum sjá hvernig það gengur hér þarna það eitthvað að ég held allavegana vissi augum að hittast öðrum foreldra meðan vorum að koma frá staðinn fyrir erfitt að tengjast nokkrum tölvupósta á eitthvað með leyfi eða svona hálfleik hjá öllum fyrirvara hjá landmælingar íslands við\n",
      "[00:51:00] og ég kom til íslands árið 2019 fyrir sveitarfélagið í mosfellsbæ sem ég var að byrja svona eða næst fyrir veitu og að varna tengingar að taka við svona upplýsingar þar og svo bara nefndi ég komið fyrir samgönguviku netverkefni sem mjög mikið verkefni eh eftirtaldir svona notkun okkar sem var verkefni\n",
      "[00:52:00] verkefni yfir það eins og hættur þó ég og ég tók þetta yfir og ætla að klára þessi verkefni fyrir að láta okkur þetta er bara þær aðal verkefni sem er í þessum tekur mikinn tíma og svo er ég að hjálpa tilfinningafélaga að læra í allskonar já skoða hér varðandi hvað er gert náðist að tvin og gjörðu svo vel\n",
      "[00:53:00] [Unintelligible]\n",
      "[00:54:00] af hverju í klárinu í háskólans við iðnaðarverkfræðingur svo með mikið svona prósent tölvutækt og svo eftir á vinna fyrir símans og svo þarf bara líka forrit eða vinna fyrir annað fyrirtæki áður búa til að leysa sjóða eða plast\n",
      "[00:55:00] japan og íslandi og þá var bara grjóti skipulagist já já kannski hjá henni í sögunni lengst en alexandra hún vill ekkert búanna á íslandi en við sjá en hún vill hún er þá koma heim aftur er það ekki villan koma heim aftur er það\n",
      "[00:56:00] heyrðu takk fyrir það á akranesi segðu okkur aftur hvað hún verður gerð hérna hjá náttúrufræðistofnun byrjaði 2011 og vinnuna við ör\n",
      "[00:57:00] næsta fundi þá kannski töluðum hvað við ætlum að gera á hvernig við ætlum að ná að utan við þessum við erum hér þannig að ég vildi og svo er hann bara sko allskonar í boði þú veist voru útlöndum þannig að við\n",
      "[00:58:00] við erum búin að ákveða okkar milli að við tölum kannski saman tveggja þann fresti bara með markó og hennar þú veist ég er alþingi míkrómann sér eða frekar og hann nei hún er frekar hinum megin viljið nei þú sagðir hin hérna frekar hliðni alveg en mig langar samt að hanna förum saman og reynum að finna út úr þessu sammála björgum heiminum við alltaf að skaga á færslumiðlun er það ekki eða gerast svona að við gerum svona smá hóp eins og þau já einmitt sjónvarpið nei við verðum að mæta á skaga já það er svona skemmtilegast gaman\n",
      "[00:59:00] en þarna já við bara verður áfram að forgangsraða á reyna að finna út að gerast þannig við reynum þá bara mánaðarlegan svo voru oftar um allskonar núna til dæmis að því að ég má kannski ekkert vera að ég er svona búin að vera flöskuháls í allskonar það mikið að gerast þá hann fleiri sem ég er búin að gera og ég er aðeins of dugleg að tala við fólk út um allt og þá verður of tile eitthvað vesen eftir það reyna að því við erum áfram með þetta grunngerðarverkefni þar sem við erum pínu að þú ert bara svona hvetja stofnana til að veita aðgengi að gögnunum sínum og stundum þarf margra pínu að vera þú veist lækka og hjálpa fólki aðeins af stað og hvet\n",
      "[01:00:00] áfram andlegur stuðningur en hérna einhvern tíma var lagt upp með það allavega sem ég var á að skoða þegar verkefni kom inn sko að koma ykkur til okkar ætti að fara í gegnum sviðsstjóra sem varð síðan nei svo fórum við bara já eða foreldrum svíþjóð sem var ekki svona við um hvað mikið það gerir eða ekki við þetta bara já já já en ætlar að hafa eitthvað svoleiðis eða svo mér finnst allt í lagi markaður missir að hennar mögulega að vilja statta einhverja kóperinningur þar verkefni sem er bara spennandi um finnst allt í lagi við reynum að hafa eitthvað svona yfirsýn yfir hvað við erum að gera að þeir raunar verið erfið með ofur verkefni held ég ánægja svona innanlandsfólk sem að kemur og biður um geturðu gert þetta fyrir að hafa það áfram með svo kemur sko það stóð til að þetta fara í gegnum\n",
      "[01:01:00] okkur við erum með risastórt verkefnum samgöngugrunn\n",
      "[01:02:00] sem er alveg bara pínu hefji sko og við erum örugglega á einhverjum tímapunkti að fá pínu fleiri heldur á verk með það þess vegna var ég líka láta vita ég fer svona snemma í jólafrí elleftu ágætt virkar 77 janúar gefur heim kannski einmitt ég er að vonast til þess að við getum komið bara ennþá meira að gögnum út bara opnað meira gögn frá náttúrufræðistofnun gömlu sunnu hún var spennt að gera eitthvað inná þessi þannig að bara að hjálpa fólki að opna svolítið og það er\n",
      "[01:03:00] óttast þetta finna einhver leiða í veita sundum viðkvæmt að þá er oft hægt að setja það kerfi að hita kort þessa svona einmitt að vinna með viðkvæm gögn mikið landmælum ég bara hálf stressuð að vita einhverjum viðkvæmi þarna í að frekar yfirleitt sko en já svo voru gögnin ekkert endilega viðkvæma þetta kannski útaf samskiptunum eins og með refagreni það var ekki það að gögnin væri hvað viðkvæmd nei heldur bara vildi hún ekki veita aðgang að því að ef hún gerði það þá misstum trausti það væri gögnin samskiptum við skoða annað sitja þau ykkur einn held að það sé líka en svo er þetta ekki þannig\n",
      "[01:04:00] að greni og svo erum við kannski í sjónvarpinu ofangreindum það kannski ekki greidd 10 2 punktar já þannig að þetta er ekki hægt að setja þú veist þurrastar bara að sjá dreifinguna já já já það er ekki eitthvað fjósið er til á íslandi sirkabátta með hella gögnum eins og með hella gögnum sem við settum inn í hérna friðlýst svæði utan með ykkar eigi þessum var bara búið var það sögu að það var mjög auðvelt að sirka út hvaða eiganda varúð frá hringnum en ég kannski valdabækur já það getur verið að ég þekki svo með hellana varla þannig\n",
      "[01:05:00] vildi ekki láta nemaður einhvern veginn einhvern veginn en svona eitthvað rugluðum í hellabókasafnssonar svona upplýsingum hvað þetta er einhvern veginn eða ekki öll ekki allar þessar margir voru komnir þarna einmitt það verður fljótara að finna þetta heldur en að sjálfur grafið djúpt í bili ég boða bara núna fund að mána feli svona rauninni líka bara að hafa þetta kaffi fundur annar janúar nei ég verð ekki þetta\n",
      "[01:06:00] þetta er alltaf svona einn á einn dagur dagur þarna séu góð jól fyrir hennar starfið fólk ég veit ekki hvernig það verður landmælumenn hjá náttúrustofunni hefur það verið hefst fólk fær nokkra daga gefins í jólagjöf en það byrjaði bara eða fjórir var ekki heppinn að pínu hræddum það að það sé bara helgi en þola það svona já að gefa ekki komin yfir hérna sjöunda tveir dagar þarna eftir áramótinu virtið í alvöru passar þetta ekki í boði örugglega bara þú veist alltaf einnig það er svo erfitt að gera okkur svona seríur það þegar allt í fólki\n",
      "[01:07:00] þriggja vegna því oh nice heyrðu flestir á netinu í pósti það bara með önnu nei þetta verður bara einhver besta\n"
     ]
    }
   ],
   "source": [
    "# Transcribe each chunk and store results with timestamps\n",
    "transcriptions = []\n",
    "for i, chunk in enumerate(chunks):\n",
    "    chunk_path = f\"chunk_{i}_{int(time.time())}.wav\"  # Unique name for each chunk file, vole\n",
    "    chunk.export(chunk_path, format=\"wav\")\n",
    "\n",
    "    # Calculate the start time of the chunk and format it\n",
    "    chunk_start_time = i * chunk_length_ms\n",
    "    timestamp = format_timestamp(chunk_start_time)\n",
    "\n",
    "    # Transcribe the chunk and handle errors\n",
    "    transcription = transcribe_chunk(audio_chunk_path=chunk_path)\n",
    "\n",
    "    # Append the timestamp to the transcription\n",
    "    transcriptions.append(f\"[{timestamp}] {transcription}\")\n",
    "\n",
    "    # Clean up the chunk file and add delay between requests\n",
    "    os.remove(chunk_path)\n",
    "    time.sleep(10)  # Pause to avoid overwhelming the speech recognition API\n",
    "\n",
    "# Combine and output the full transcription\n",
    "full_transcription = \"\\n\".join(transcriptions)\n",
    "print(full_transcription)  # Optionally save to a txt file in the next cell"
   ]
  },
  {
   "cell_type": "code",
   "execution_count": 9,
   "metadata": {
    "colab": {
     "base_uri": "https://localhost:8080/"
    },
    "executionInfo": {
     "elapsed": 191,
     "status": "ok",
     "timestamp": 1733154104238,
     "user": {
      "displayName": "Michaela Hrabalikova",
      "userId": "03300522245908026853"
     },
     "user_tz": 0
    },
    "id": "Z-xflTai3i2L",
    "outputId": "87861c1c-e938-451a-affe-0358a69edaf3"
   },
   "outputs": [
    {
     "name": "stdout",
     "output_type": "stream",
     "text": [
      "Transcription saved to transcription.txt\n"
     ]
    }
   ],
   "source": [
    "# Save to a file\n",
    "transcription_file_path = os.path.join(folder_path, \"transcription_firstStaffMetting.txt\") #give a name to the txt file\n",
    "with open(transcription_file_path, 'w') as f:\n",
    "  f.write(full_transcription)\n",
    "print(\"Transcription saved to transcription.txt\")"
   ]
  }
 ],
 "metadata": {
  "colab": {
   "authorship_tag": "ABX9TyOchPPHtIIgM2Jy4VcaqwG9",
   "mount_file_id": "1wpHpZB1x1EK32SqwtpzRXA6J0BwwjcxB",
   "provenance": []
  },
  "kernelspec": {
   "display_name": "audio",
   "language": "python",
   "name": "python3"
  },
  "language_info": {
   "codemirror_mode": {
    "name": "ipython",
    "version": 3
   },
   "file_extension": ".py",
   "mimetype": "text/x-python",
   "name": "python",
   "nbconvert_exporter": "python",
   "pygments_lexer": "ipython3",
   "version": "3.12.8"
  }
 },
 "nbformat": 4,
 "nbformat_minor": 0
}
